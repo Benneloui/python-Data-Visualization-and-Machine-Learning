{
 "cells": [
  {
   "cell_type": "markdown",
   "id": "51397783",
   "metadata": {},
   "source": [
    "# Introduction to dash"
   ]
  },
  {
   "cell_type": "markdown",
   "id": "5e69bfcc",
   "metadata": {},
   "source": [
    "# A simple example"
   ]
  },
  {
   "cell_type": "code",
   "execution_count": 1,
   "id": "35f63435",
   "metadata": {
    "ExecuteTime": {
     "end_time": "2024-09-18T14:16:48.557862Z",
     "start_time": "2024-09-18T14:16:47.699740Z"
    }
   },
   "outputs": [],
   "source": [
    "import pandas as pd\n",
    "from dash import Dash, html, dcc, callback, Input, Output\n",
    "import plotly.express as px\n",
    "\n",
    "# what is pamdas and why do we need it?"
   ]
  },
  {
   "cell_type": "code",
   "execution_count": 2,
   "id": "bb1fa15a",
   "metadata": {
    "ExecuteTime": {
     "end_time": "2024-09-18T14:16:48.569038Z",
     "start_time": "2024-09-18T14:16:48.559873Z"
    }
   },
   "outputs": [
    {
     "data": {
      "text/html": [
       "<div>\n",
       "<style scoped>\n",
       "    .dataframe tbody tr th:only-of-type {\n",
       "        vertical-align: middle;\n",
       "    }\n",
       "\n",
       "    .dataframe tbody tr th {\n",
       "        vertical-align: top;\n",
       "    }\n",
       "\n",
       "    .dataframe thead th {\n",
       "        text-align: right;\n",
       "    }\n",
       "</style>\n",
       "<table border=\"1\" class=\"dataframe\">\n",
       "  <thead>\n",
       "    <tr style=\"text-align: right;\">\n",
       "      <th></th>\n",
       "      <th>Population</th>\n",
       "      <th>Life expectancy</th>\n",
       "      <th>GDP per capita</th>\n",
       "    </tr>\n",
       "    <tr>\n",
       "      <th>Continent</th>\n",
       "      <th></th>\n",
       "      <th></th>\n",
       "      <th></th>\n",
       "    </tr>\n",
       "  </thead>\n",
       "  <tbody>\n",
       "    <tr>\n",
       "      <th>Africa</th>\n",
       "      <td>1.787576e+07</td>\n",
       "      <td>54.806038</td>\n",
       "      <td>3089.032605</td>\n",
       "    </tr>\n",
       "    <tr>\n",
       "      <th>Americas</th>\n",
       "      <td>3.595485e+07</td>\n",
       "      <td>73.608120</td>\n",
       "      <td>11003.031625</td>\n",
       "    </tr>\n",
       "    <tr>\n",
       "      <th>Asia</th>\n",
       "      <td>1.155138e+08</td>\n",
       "      <td>70.728485</td>\n",
       "      <td>12473.026870</td>\n",
       "    </tr>\n",
       "    <tr>\n",
       "      <th>Europe</th>\n",
       "      <td>1.953662e+07</td>\n",
       "      <td>77.648600</td>\n",
       "      <td>25054.481636</td>\n",
       "    </tr>\n",
       "    <tr>\n",
       "      <th>Oceania</th>\n",
       "      <td>1.227497e+07</td>\n",
       "      <td>80.719500</td>\n",
       "      <td>29810.188275</td>\n",
       "    </tr>\n",
       "  </tbody>\n",
       "</table>\n",
       "</div>"
      ],
      "text/plain": [
       "             Population  Life expectancy  GDP per capita\n",
       "Continent                                               \n",
       "Africa     1.787576e+07        54.806038     3089.032605\n",
       "Americas   3.595485e+07        73.608120    11003.031625\n",
       "Asia       1.155138e+08        70.728485    12473.026870\n",
       "Europe     1.953662e+07        77.648600    25054.481636\n",
       "Oceania    1.227497e+07        80.719500    29810.188275"
      ]
     },
     "execution_count": 2,
     "metadata": {},
     "output_type": "execute_result"
    }
   ],
   "source": [
    "# Load data\n",
    "info = pd.read_csv('countries.csv')\n",
    "\n",
    "# Compute average features per continent\n",
    "df = info.groupby('Continent')[['Population', 'Life expectancy', 'GDP per capita']].mean()\n",
    "df\n"
   ]
  },
  {
   "cell_type": "code",
   "execution_count": 3,
   "id": "813d1075-c79f-4fb3-ae7b-9a00cd5ed3b2",
   "metadata": {
    "ExecuteTime": {
     "end_time": "2024-09-18T14:16:48.997682Z",
     "start_time": "2024-09-18T14:16:48.571047Z"
    }
   },
   "outputs": [
    {
     "data": {
      "text/html": [
       "\n",
       "        <iframe\n",
       "            width=\"100%\"\n",
       "            height=\"650\"\n",
       "            src=\"http://127.0.0.1:8050/\"\n",
       "            frameborder=\"0\"\n",
       "            allowfullscreen\n",
       "            \n",
       "        ></iframe>\n",
       "        "
      ],
      "text/plain": [
       "<IPython.lib.display.IFrame at 0x11fa85910>"
      ]
     },
     "metadata": {},
     "output_type": "display_data"
    }
   ],
   "source": [
    "# Initialize the app\n",
    "app = Dash()\n",
    "\n",
    "# App layout\n",
    "app.layout = html.Div([\n",
    "\n",
    "    # Add title\n",
    "    html.H1('A simple example'),\n",
    "\n",
    "    # Add radio items\n",
    "    dcc.RadioItems(options=['Population', 'Life expectancy', 'GDP per capita'],\n",
    "                   value='Life expectancy', id='radio'),\n",
    "\n",
    "    # Add graph\n",
    "    dcc.Graph(figure={}, id='graph')\n",
    "])\n",
    "\n",
    "# Add a callback to implement the user interaction\n",
    "@callback(\n",
    "    Output(component_id='graph', component_property='figure'),\n",
    "    Input(component_id='radio', component_property='value')\n",
    ")\n",
    "def update_graph(selected_option):\n",
    "\n",
    "    # Create bar plot\n",
    "    fig = px.bar(df, x=df.index, y=selected_option)\n",
    "\n",
    "    return fig\n",
    "\n",
    "# Run the app\n",
    "app.run(debug=True, use_reloader=False)"
   ]
  },
  {
   "cell_type": "markdown",
   "id": "c06da7f0",
   "metadata": {},
   "source": [
    "# Components of a Dash app"
   ]
  },
  {
   "cell_type": "markdown",
   "id": "0d110f63",
   "metadata": {},
   "source": [
    "* HTML Components: headings, text, etc.\n",
    "* Dash Core components: controls, graphs, tables\n",
    "* Callback functions: functions to implement user interaction"
   ]
  },
  {
   "cell_type": "markdown",
   "id": "c14a464f",
   "metadata": {},
   "source": [
    "<img src='dashboard_components.png' style='float:left;margin-left:1px;width:900px'/>"
   ]
  },
  {
   "cell_type": "markdown",
   "id": "abf870e9",
   "metadata": {},
   "source": [
    "# 1) How to add components to your Dash app"
   ]
  },
  {
   "cell_type": "markdown",
   "id": "0c48fd13",
   "metadata": {},
   "source": [
    "## Adding HTML components"
   ]
  },
  {
   "cell_type": "markdown",
   "id": "3dad7e31",
   "metadata": {},
   "source": [
    "* Headings (html.H1)\n",
    "* Sections (html.Div)\n",
    "* Text (html.P)\n",
    "* Links (html.A)\n",
    "* ..."
   ]
  },
  {
   "cell_type": "code",
   "execution_count": null,
   "id": "9913e068",
   "metadata": {
    "ExecuteTime": {
     "end_time": "2024-09-18T14:16:49.505901Z",
     "start_time": "2024-09-18T14:16:48.999688Z"
    }
   },
   "outputs": [],
   "source": [
    "# Initialize the app\n",
    "app = Dash()\n",
    "\n",
    "# Define app layout\n",
    "app.layout = html.Div([\n",
    "\n",
    "    # Add a title\n",
    "    html.H1('Hello Dash'),\n",
    "\n",
    "    # Add a section (div=division)\n",
    "    html.Div([\n",
    "\n",
    "        # Add a paragraph\n",
    "        html.P('Dash converts Python classes into HTML'),\n",
    "\n",
    "        # Add another paragraph\n",
    "        html.P(\"This conversion happens behind the scenes by Dash's JavaScript front-end\")\n",
    "    ]),\n",
    "\n",
    "    # Add a link\n",
    "    html.A('All dash HTML components', href='https://dash.plotly.com/dash-html-components')\n",
    "])\n",
    "\n",
    "# Run the app\n",
    "app.run(debug=True, use_reloader=False)"
   ]
  },
  {
   "cell_type": "markdown",
   "id": "fdbdaf35",
   "metadata": {},
   "source": [
    "## Adding Dash core components"
   ]
  },
  {
   "cell_type": "markdown",
   "id": "ed1565ae",
   "metadata": {},
   "source": [
    "* Dropdown menus (dcc.Dropdown)\n",
    "* Sliders (dcc.Slider)\n",
    "* Checkboxes (dcc.Checkboxes)\n",
    "* Radio Items (dcc.RadioItems)\n",
    "* ..."
   ]
  },
  {
   "cell_type": "code",
   "execution_count": null,
   "id": "0c9cc916",
   "metadata": {
    "ExecuteTime": {
     "end_time": "2024-09-18T14:16:50.020967Z",
     "start_time": "2024-09-18T14:16:49.506944Z"
    }
   },
   "outputs": [],
   "source": [
    "# Initialize the app\n",
    "app = Dash()\n",
    "\n",
    "# Define app layout\n",
    "app.layout = html.Div([\n",
    "\n",
    "    # Add a dropdown menu\n",
    "    dcc.Dropdown(['New York', 'Bern', 'Thun']),\n",
    "\n",
    "    # Add a line break\n",
    "    html.Br(),\n",
    "\n",
    "    # Add a slider\n",
    "    dcc.Slider(0, 10, 1, value=5),\n",
    "\n",
    "    # Add a line break\n",
    "    html.Br(),\n",
    "\n",
    "    # Add checkboxes\n",
    "    dcc.Checklist(['Contract A', 'Contract B', 'Contract C']),\n",
    "\n",
    "    # Add a line break\n",
    "    html.Br(),\n",
    "\n",
    "    # Add radio items\n",
    "    dcc.RadioItems(['Option A', 'Option B', 'Option C'])\n",
    "\n",
    "\n",
    "])\n",
    "\n",
    "# Run the app\n",
    "app.run(debug=True, use_reloader=False)"
   ]
  },
  {
   "cell_type": "markdown",
   "id": "5d6b9e6b",
   "metadata": {},
   "source": [
    "# 2) How to add interactivity using callbacks"
   ]
  },
  {
   "cell_type": "markdown",
   "id": "343869e2",
   "metadata": {},
   "source": [
    "A callback function consists of\n",
    "* One or multiple Inputs\n",
    "* One or multiple Outputs\n",
    "* A Python function"
   ]
  },
  {
   "cell_type": "code",
   "execution_count": null,
   "id": "9d681515",
   "metadata": {
    "ExecuteTime": {
     "end_time": "2024-09-18T14:16:50.541574Z",
     "start_time": "2024-09-18T14:16:50.021973Z"
    }
   },
   "outputs": [],
   "source": [
    "# Initialize the app\n",
    "app = Dash()\n",
    "\n",
    "# Define app layout\n",
    "app.layout = html.Div([\n",
    "\n",
    "    # Add a title\n",
    "    html.H2('Select an option to see callbacks in action.'),\n",
    "\n",
    "    # Add checkboxes\n",
    "    dcc.Checklist(['Bern', 'Lugano', 'Zurich'], value=['Bern'], id='checkboxes'),\n",
    "\n",
    "    # Add a line break\n",
    "    html.Br(),\n",
    "\n",
    "    # Add a paragraph that will display the selected options\n",
    "    html.P(id='output_field'),\n",
    "\n",
    "])\n",
    "\n",
    "# Add a callback to implement the user interaction\n",
    "@callback(\n",
    "    Output(component_id='output_field', component_property='children'),\n",
    "    Input(component_id='checkboxes', component_property='value')\n",
    ")\n",
    "def update_output_div(selected_options):\n",
    "\n",
    "    # Initialize the output string\n",
    "    output_string = 'You have selected the following options: '\n",
    "\n",
    "    # Add the selected options to the output string\n",
    "    for option in selected_options:\n",
    "        output_string += option + ' '\n",
    "\n",
    "    return output_string\n",
    "\n",
    "\n",
    "# Run the app\n",
    "app.run(debug=True, use_reloader=False)"
   ]
  },
  {
   "cell_type": "markdown",
   "id": "510293a6",
   "metadata": {},
   "source": [
    "# 3) How to style your app"
   ]
  },
  {
   "cell_type": "markdown",
   "id": "d375a613",
   "metadata": {},
   "source": [
    "You can use CSS to style your app"
   ]
  },
  {
   "cell_type": "code",
   "execution_count": null,
   "id": "2bbdcba4",
   "metadata": {
    "ExecuteTime": {
     "end_time": "2024-09-18T14:16:51.059395Z",
     "start_time": "2024-09-18T14:16:50.542861Z"
    }
   },
   "outputs": [],
   "source": [
    "# Initialize the app\n",
    "app = Dash()\n",
    "\n",
    "# Define app layout\n",
    "app.layout = html.Div([\n",
    "\n",
    "    # Add title\n",
    "    html.H1('This is my title',\n",
    "            style={'textAlign': 'center',\n",
    "                   'color': 'blue',\n",
    "                   'fontFamily': 'Arial, sans-serif',\n",
    "                   'padding': 40})\n",
    "\n",
    "])\n",
    "\n",
    "# Run the app\n",
    "app.run(debug=True, use_reloader=False)"
   ]
  }
 ],
 "metadata": {
  "kernelspec": {
   "display_name": "p-dvml-env",
   "language": "python",
   "name": "python3"
  },
  "language_info": {
   "codemirror_mode": {
    "name": "ipython",
    "version": 3
   },
   "file_extension": ".py",
   "mimetype": "text/x-python",
   "name": "python",
   "nbconvert_exporter": "python",
   "pygments_lexer": "ipython3",
   "version": "3.12.11"
  }
 },
 "nbformat": 4,
 "nbformat_minor": 5
}
