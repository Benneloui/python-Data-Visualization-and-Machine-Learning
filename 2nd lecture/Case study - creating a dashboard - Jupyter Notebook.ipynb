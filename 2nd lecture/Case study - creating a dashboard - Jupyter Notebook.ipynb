{
 "cells": [
  {
   "cell_type": "markdown",
   "id": "667d8edc",
   "metadata": {},
   "source": [
    "<font color=blue size=4>\n",
    "    Description of situation:\n",
    "</font>\n",
    "\n",
    "><font size='3'>A colleague of yours provided you the CSV-file **stock_data_smi.csv**. She asked you to implement a dashboard for analyzing the value development of Swiss stocks since 2008. The dashboard should be organized as follows:</font>"
   ]
  },
  {
   "cell_type": "markdown",
   "id": "606fbdba",
   "metadata": {},
   "source": [
    "<img src='sketch_of_dashboard.png' style='width:600px'/>"
   ]
  },
  {
   "cell_type": "markdown",
   "id": "0b74c6f0",
   "metadata": {},
   "source": [
    "<font color=blue size=4>\n",
    "    Task:\n",
    "</font>\n",
    "\n",
    "><font size='3'>Implement this dashboard below:</font>"
   ]
  },
  {
   "cell_type": "markdown",
   "id": "a0e8021d",
   "metadata": {},
   "source": [
    "<font color=blue size=4>\n",
    "    Solution:\n",
    "</font>"
   ]
  },
  {
   "cell_type": "markdown",
   "id": "02d9b8ad",
   "metadata": {},
   "source": [
    "Import packages and data"
   ]
  },
  {
   "cell_type": "code",
   "execution_count": null,
   "id": "d3021295",
   "metadata": {
    "ExecuteTime": {
     "end_time": "2024-09-18T14:30:39.290904Z",
     "start_time": "2024-09-18T14:30:39.285270Z"
    }
   },
   "outputs": [],
   "source": [
    "import pandas as pd\n",
    "from dash import Dash, html, dcc, callback, Output, Input\n",
    "import plotly.express as px"
   ]
  },
  {
   "cell_type": "code",
   "execution_count": null,
   "id": "798c1c8b",
   "metadata": {
    "ExecuteTime": {
     "end_time": "2024-09-18T14:30:39.336387Z",
     "start_time": "2024-09-18T14:30:39.319913Z"
    }
   },
   "outputs": [],
   "source": [
    "# Load data\n",
    "df = pd.read_csv('stock_data_smi.csv', index_col='Date')"
   ]
  },
  {
   "cell_type": "markdown",
   "id": "4bf6ff1a",
   "metadata": {},
   "source": [
    "Create Dash app"
   ]
  },
  {
   "cell_type": "code",
   "execution_count": null,
   "id": "1b90063a",
   "metadata": {
    "ExecuteTime": {
     "end_time": "2024-09-18T14:30:54.385947Z",
     "start_time": "2024-09-18T14:30:54.170039Z"
    }
   },
   "outputs": [],
   "source": [
    "# Initialize the app\n",
    "app = Dash()\n",
    "\n",
    "# Define app layout\n",
    "app.layout = html.Div(children=[\n",
    "\n",
    "    # Add title\n",
    "    html.H1(children='Swiss Stocks Dashboard', style={'textAlign': 'center'}),\n",
    "    \n",
    "    # Add controls\n",
    "    html.Div([\n",
    "        \n",
    "        # Add dropdown menu to select stocks\n",
    "        html.Label('Select stocks to be displayed'),\n",
    "        dcc.Dropdown(df.columns, value='ABB', id='dropdown_stocks', multi=True),\n",
    "        html.Br(),\n",
    "        \n",
    "        # Add dropdown menu to select performance type\n",
    "        html.Label('Choose performance type'),\n",
    "        dcc.Dropdown(['Absolute', 'Relative'], value='Absolute', id='dropdown_performance'),\n",
    "        \n",
    "    ], style={'width': 400, 'padding-left': 80}),\n",
    "    \n",
    "    # Add graph next\n",
    "    dcc.Graph(id='graph'),\n",
    "    html.Br(),\n",
    "  \n",
    "], style={'fontFamily': 'Arial, sans-serif', 'padding': 40, 'textAlign': 'left'})\n",
    "\n",
    "@callback(\n",
    "    Output(component_id='graph', component_property='figure'),\n",
    "    Input(component_id='dropdown_stocks', component_property='value'),\n",
    "    Input(component_id='dropdown_performance', component_property='value')    \n",
    ")\n",
    "def update_graph(dropdown_stocks, dropdown_performance):\n",
    "\n",
    "    if dropdown_performance == 'Relative':\n",
    "        \n",
    "        # Copy data frame\n",
    "        df_for_plot = df.copy()\n",
    "        \n",
    "        # Determine relative performance of all stocks\n",
    "        df_for_plot = df_for_plot / df_for_plot.iloc[-1, :]\n",
    "        \n",
    "        # Create line plot\n",
    "        fig = px.line(df_for_plot, x=df_for_plot.index, y=dropdown_stocks)        \n",
    "        \n",
    "        # Format yaxes\n",
    "        fig.update_yaxes(tickformat='.0%')        \n",
    "    else:\n",
    "        \n",
    "        # Create line plot\n",
    "        fig = px.line(df, x=df.index, y=dropdown_stocks)        \n",
    "    \n",
    "    # Update legend title\n",
    "    fig.update_layout(legend_title='Stocks')\n",
    "    \n",
    "    return fig\n",
    "\n",
    "\n",
    "# Run the app\n",
    "app.run(debug=True, use_reloader=False)"
   ]
  }
 ],
 "metadata": {
  "kernelspec": {
   "display_name": "VAM-2025",
   "language": "python",
   "name": "vam-2025"
  },
  "language_info": {
   "codemirror_mode": {
    "name": "ipython",
    "version": 3
   },
   "file_extension": ".py",
   "mimetype": "text/x-python",
   "name": "python",
   "nbconvert_exporter": "python",
   "pygments_lexer": "ipython3",
   "version": "3.13.0"
  }
 },
 "nbformat": 4,
 "nbformat_minor": 5
}
