{
 "cells": [
  {
   "cell_type": "markdown",
   "id": "4ff0ee79",
   "metadata": {},
   "source": [
    "# Introduction to plotly"
   ]
  },
  {
   "cell_type": "markdown",
   "id": "d91a62d4",
   "metadata": {},
   "source": [
    "## A simple example"
   ]
  },
  {
   "cell_type": "code",
   "execution_count": null,
   "id": "b6aa9300",
   "metadata": {
    "ExecuteTime": {
     "end_time": "2024-09-18T13:55:04.193395Z",
     "start_time": "2024-09-18T13:55:03.780773Z"
    }
   },
   "outputs": [
    {
     "ename": "",
     "evalue": "",
     "output_type": "error",
     "traceback": [
      "\u001b[1;31mRunning cells with 'Python 3.13.5' requires the ipykernel package.\n",
      "\u001b[1;31m<a href='command:jupyter.createPythonEnvAndSelectController'>Create a Python Environment</a> with the required packages.\n",
      "\u001b[1;31mOr install 'ipykernel' using the command: '/opt/homebrew/bin/python3 -m pip install ipykernel -U --user --force-reinstall'"
     ]
    }
   ],
   "source": [
    "import plotly.express as px\n",
    "\n",
    "# Create a line plot\n",
    "fig = px.line(x=[1, 2, 3], y=[1, 3, 2])\n",
    "\n",
    "# Display figure\n",
    "fig"
   ]
  },
  {
   "cell_type": "markdown",
   "id": "ed4985c0",
   "metadata": {},
   "source": [
    "## Components of a plotly figure"
   ]
  },
  {
   "cell_type": "markdown",
   "id": "13ff62e2",
   "metadata": {},
   "source": [
    "A plotly figure is a trees of attributes. The root node has three attributes:\n",
    "* data: list of dictionaries referred to as traces. Each trace has one of more than 40 types (e.g. scatter, bar, pie)\n",
    "* layout: dictionary that controls positioning and configuration of non-data related parts of the figure (e.g. legend, title)\n",
    "* frames: list of dictionaries that define sequential frames in an animated plot "
   ]
  },
  {
   "cell_type": "markdown",
   "id": "802e1b37",
   "metadata": {},
   "source": [
    "<img src='plotly_components.png' style='float:left;margin:25px;width:700px'/>"
   ]
  },
  {
   "cell_type": "code",
   "execution_count": null,
   "id": "aec168b9",
   "metadata": {},
   "outputs": [
    {
     "ename": "",
     "evalue": "",
     "output_type": "error",
     "traceback": [
      "\u001b[1;31mRunning cells with 'Python 3.13.5' requires the ipykernel package.\n",
      "\u001b[1;31m<a href='command:jupyter.createPythonEnvAndSelectController'>Create a Python Environment</a> with the required packages.\n",
      "\u001b[1;31mOr install 'ipykernel' using the command: '/opt/homebrew/bin/python3 -m pip install ipykernel -U --user --force-reinstall'"
     ]
    }
   ],
   "source": [
    "print(fig)"
   ]
  },
  {
   "cell_type": "markdown",
   "id": "e4aa0f4a",
   "metadata": {},
   "source": [
    "## 1) How to create a figure"
   ]
  },
  {
   "cell_type": "code",
   "execution_count": null,
   "id": "83c70004",
   "metadata": {},
   "outputs": [],
   "source": [
    "# Load data\n",
    "df = px.data.gapminder().query(\"continent=='Oceania'\")\n",
    "\n",
    "df\n",
    "\n",
    "# Create a line plot\n",
    "px.line(df, x='year', y='lifeExp', color='country')"
   ]
  },
  {
   "cell_type": "code",
   "execution_count": null,
   "id": "6bedefb5",
   "metadata": {},
   "outputs": [],
   "source": [
    "# Load data\n",
    "df = px.data.gapminder().query(\"country == 'Canada'\")\n",
    "\n",
    "# Create a bar plot\n",
    "px.bar(df, x='year', y='pop')"
   ]
  },
  {
   "cell_type": "code",
   "execution_count": null,
   "id": "7611be31",
   "metadata": {
    "ExecuteTime": {
     "end_time": "2024-09-18T13:55:04.423262Z",
     "start_time": "2024-09-18T13:55:04.369480Z"
    }
   },
   "outputs": [],
   "source": [
    "# Load data\n",
    "df = px.data.gapminder().query(\"year==2007\")\n",
    "\n",
    "# Create a scatter plot\n",
    "px.scatter(df, x='gdpPercap', y='lifeExp')"
   ]
  },
  {
   "cell_type": "code",
   "execution_count": null,
   "id": "a4969f3c-9b2a-46f2-b681-5137bbe9a219",
   "metadata": {
    "ExecuteTime": {
     "end_time": "2024-09-18T13:55:04.493585Z",
     "start_time": "2024-09-18T13:55:04.424281Z"
    }
   },
   "outputs": [],
   "source": [
    "# Load data\n",
    "df = px.data.stocks()\n",
    "\n",
    "# Create area plot\n",
    "px.area(df, x='date', y=['GOOG', 'AAPL', 'MSFT'])"
   ]
  },
  {
   "cell_type": "code",
   "execution_count": null,
   "id": "9e539897",
   "metadata": {
    "ExecuteTime": {
     "end_time": "2024-09-18T13:55:04.583820Z",
     "start_time": "2024-09-18T13:55:04.496592Z"
    }
   },
   "outputs": [],
   "source": [
    "# Create a choropleth map\n",
    "fig = px.choropleth(locations=['CA', 'AZ', 'TX', 'NY'],\n",
    "              scope=\"usa\", locationmode=\"USA-states\",\n",
    "              color_continuous_scale='Blues', color=[1, 2, 3, 4])\n",
    "\n",
    "# Reduce margins around figure to zero\n",
    "fig.update_layout(margin={\"r\":0,\"t\":0,\"l\":0,\"b\":0})"
   ]
  },
  {
   "cell_type": "markdown",
   "id": "e1d3a0eb",
   "metadata": {},
   "source": [
    "## 2) How to customize a figure"
   ]
  },
  {
   "cell_type": "code",
   "execution_count": null,
   "id": "16efe140",
   "metadata": {
    "ExecuteTime": {
     "end_time": "2024-09-18T13:55:04.707797Z",
     "start_time": "2024-09-18T13:55:04.584824Z"
    }
   },
   "outputs": [],
   "source": [
    "# Load data\n",
    "df = px.data.gapminder().query(\"year==2007\")\n",
    "\n",
    "# Size the markers according to feature population\n",
    "fig = px.scatter(df, x='gdpPercap', y='lifeExp', color='continent', size='pop', size_max=60, hover_data=['country'])\n",
    "\n",
    "# Show fig\n",
    "fig"
   ]
  },
  {
   "cell_type": "code",
   "execution_count": null,
   "id": "a086f927",
   "metadata": {
    "ExecuteTime": {
     "end_time": "2024-09-18T13:55:04.794236Z",
     "start_time": "2024-09-18T13:55:04.709804Z"
    }
   },
   "outputs": [],
   "source": [
    "# Update axis labels\n",
    "fig.update_layout(xaxis = {'title': 'GDP per capita'})\n",
    "fig.update_layout(yaxis = {'title': 'Life expectancy'})\n",
    "\n",
    "# Show fig\n",
    "fig"
   ]
  },
  {
   "cell_type": "code",
   "execution_count": null,
   "id": "1c94f72b",
   "metadata": {
    "ExecuteTime": {
     "end_time": "2024-09-18T13:55:04.814307Z",
     "start_time": "2024-09-18T13:55:04.798243Z"
    }
   },
   "outputs": [],
   "source": [
    "# Add a tile\n",
    "fig.update_layout(title = 'Comparison of countries')\n",
    "\n",
    "# Show fig\n",
    "fig"
   ]
  },
  {
   "cell_type": "code",
   "execution_count": null,
   "id": "32946d68",
   "metadata": {
    "ExecuteTime": {
     "end_time": "2024-09-18T13:55:04.840977Z",
     "start_time": "2024-09-18T13:55:04.815313Z"
    }
   },
   "outputs": [],
   "source": [
    "# Customize title of legend\n",
    "fig.update_layout(legend = {'title': 'Continent'})\n",
    "\n",
    "# Show fig\n",
    "fig\n",
    "\n",
    "# export as HTML\n",
    "fig.write_html('my_figure.html')\n"
   ]
  }
 ],
 "metadata": {
  "kernelspec": {
   "display_name": "Python 3",
   "language": "python",
   "name": "python3"
  },
  "language_info": {
   "codemirror_mode": {
    "name": "ipython",
    "version": 3
   },
   "file_extension": ".py",
   "mimetype": "text/x-python",
   "name": "python",
   "nbconvert_exporter": "python",
   "pygments_lexer": "ipython3",
   "version": "3.13.5"
  }
 },
 "nbformat": 4,
 "nbformat_minor": 5
}
